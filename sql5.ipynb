{
 "cells": [
  {
   "cell_type": "markdown",
   "id": "abaa128a",
   "metadata": {},
   "source": [
    "# 1. Write SQL query to show all the data in the Movie table."
   ]
  },
  {
   "cell_type": "code",
   "execution_count": 4,
   "id": "ebed4f20",
   "metadata": {},
   "outputs": [
    {
     "ename": "SyntaxError",
     "evalue": "invalid syntax (1882178606.py, line 1)",
     "output_type": "error",
     "traceback": [
      "\u001b[1;36m  Input \u001b[1;32mIn [4]\u001b[1;36m\u001b[0m\n\u001b[1;33m    SELECT * FROM Movie;\u001b[0m\n\u001b[1;37m                  ^\u001b[0m\n\u001b[1;31mSyntaxError\u001b[0m\u001b[1;31m:\u001b[0m invalid syntax\n"
     ]
    }
   ],
   "source": [
    "SELECT * FROM Movie;"
   ]
  },
  {
   "cell_type": "markdown",
   "id": "8a867dbc",
   "metadata": {},
   "source": [
    "# 2. Write SQL query to show the title of the longest runtime movie.\n"
   ]
  },
  {
   "cell_type": "code",
   "execution_count": 3,
   "id": "636e4ee0",
   "metadata": {},
   "outputs": [
    {
     "ename": "SyntaxError",
     "evalue": "invalid syntax (3462066665.py, line 1)",
     "output_type": "error",
     "traceback": [
      "\u001b[1;36m  Input \u001b[1;32mIn [3]\u001b[1;36m\u001b[0m\n\u001b[1;33m    SELECT title FROM movies\u001b[0m\n\u001b[1;37m           ^\u001b[0m\n\u001b[1;31mSyntaxError\u001b[0m\u001b[1;31m:\u001b[0m invalid syntax\n"
     ]
    }
   ],
   "source": [
    "SELECT title FROM movies\n",
    "WHERE runtime = (SELECT MAX(runtime) FROM movies)"
   ]
  },
  {
   "cell_type": "markdown",
   "id": "69e50bb7",
   "metadata": {},
   "source": [
    "# 3. Write SQL query to show the highest revenue generating movie title.\n"
   ]
  },
  {
   "cell_type": "code",
   "execution_count": 2,
   "id": "44f1b83c",
   "metadata": {},
   "outputs": [
    {
     "ename": "SyntaxError",
     "evalue": "invalid syntax (773542467.py, line 1)",
     "output_type": "error",
     "traceback": [
      "\u001b[1;36m  Input \u001b[1;32mIn [2]\u001b[1;36m\u001b[0m\n\u001b[1;33m    SELECT title\u001b[0m\n\u001b[1;37m           ^\u001b[0m\n\u001b[1;31mSyntaxError\u001b[0m\u001b[1;31m:\u001b[0m invalid syntax\n"
     ]
    }
   ],
   "source": [
    "SELECT title\n",
    "FROM film\n",
    "WHERE film_id IN (\"highest revenue\")\n",
    "\n",
    "SELECT film_id\n",
    "FROM inventory\n",
    "WHERE inventory_id IN (\n",
    "        SELECT inventory_id\n",
    "        FROM rental\n",
    "        GROUP BY inventory_id\n",
    "        ORDER BY count(inventory_id) DESC\n",
    "        ) limit(highest revenue);"
   ]
  },
  {
   "cell_type": "markdown",
   "id": "debbe18e",
   "metadata": {},
   "source": [
    "# 4. Write SQL query to show the movie title with maximum value of revenue/budget.\n"
   ]
  },
  {
   "cell_type": "code",
   "execution_count": 1,
   "id": "5a412a7e",
   "metadata": {},
   "outputs": [
    {
     "ename": "SyntaxError",
     "evalue": "invalid syntax (3982578939.py, line 1)",
     "output_type": "error",
     "traceback": [
      "\u001b[1;36m  Input \u001b[1;32mIn [1]\u001b[1;36m\u001b[0m\n\u001b[1;33m    SELECT Movies, max( revenue ) as max_revenue FROM\u001b[0m\n\u001b[1;37m           ^\u001b[0m\n\u001b[1;31mSyntaxError\u001b[0m\u001b[1;31m:\u001b[0m invalid syntax\n"
     ]
    }
   ],
   "source": [
    "SELECT Movies, max( revenue ) as max_revenue FROM\n",
    "`movie` GROUP BY movies "
   ]
  },
  {
   "cell_type": "markdown",
   "id": "f7d61a5d",
   "metadata": {},
   "source": [
    "# 5. Write a SQL query to show the movie title and its cast details like name of the person, gender, character name, cast order."
   ]
  },
  {
   "cell_type": "code",
   "execution_count": 5,
   "id": "475a16b5",
   "metadata": {},
   "outputs": [
    {
     "ename": "SyntaxError",
     "evalue": "invalid syntax (2912049464.py, line 1)",
     "output_type": "error",
     "traceback": [
      "\u001b[1;36m  Input \u001b[1;32mIn [5]\u001b[1;36m\u001b[0m\n\u001b[1;33m    SELECT m.title, p.name, p.gender, c.character_name, c.cast_order\u001b[0m\n\u001b[1;37m           ^\u001b[0m\n\u001b[1;31mSyntaxError\u001b[0m\u001b[1;31m:\u001b[0m invalid syntax\n"
     ]
    }
   ],
   "source": [
    "SELECT m.title, p.name, p.gender, c.character_name, c.cast_order\n",
    "FROM movie m\n",
    "INNER JOIN cast c ON m.id = c.movie_id\n",
    "INNER JOIN person p ON c.person_id = p.id\n",
    "ORDER BY m.title, c.cast_order\n",
    "```\n"
   ]
  },
  {
   "cell_type": "markdown",
   "id": "e6c1b530",
   "metadata": {},
   "source": [
    "# 6.Write a SQL query to show the country name where maximum number of movies has been produced, along with the number of movies produced."
   ]
  },
  {
   "cell_type": "code",
   "execution_count": null,
   "id": "0d66e55b",
   "metadata": {},
   "outputs": [],
   "source": [
    "SELECT country, COUNT(*) AS count\n",
    "FROM movies\n",
    "GROUP BY country\n",
    "ORDER BY count DESC\n",
    "LIMIT 1\n"
   ]
  },
  {
   "cell_type": "markdown",
   "id": "b4e2adb6",
   "metadata": {},
   "source": [
    "# 7. Write a SQL query to show all the genre_id in one column and genre_name in second column."
   ]
  },
  {
   "cell_type": "code",
   "execution_count": null,
   "id": "7feee83d",
   "metadata": {},
   "outputs": [],
   "source": [
    "SELECT genre_id, genre_name\n",
    "FROM genre\n"
   ]
  },
  {
   "cell_type": "markdown",
   "id": "b0c57322",
   "metadata": {},
   "source": [
    "# 8. Write a SQL query to show name of all the languages in one column and number of movies in that particular column in another column."
   ]
  },
  {
   "cell_type": "code",
   "execution_count": null,
   "id": "133d5ba1",
   "metadata": {},
   "outputs": [],
   "source": [
    "SELECT language, COUNT(*) AS \"Number of Movies\"\n",
    "FROM movies\n",
    "GROUP BY language\n",
    "ORDER BY \"Number of Movies\" DESC\n"
   ]
  },
  {
   "cell_type": "markdown",
   "id": "c28eb25f",
   "metadata": {},
   "source": [
    "# 9. Write a SQL query to show movie name in first column, no. of crew members in second column and number of cast members in third column."
   ]
  },
  {
   "cell_type": "code",
   "execution_count": null,
   "id": "efd145f5",
   "metadata": {},
   "outputs": [],
   "source": [
    "SELECT title, COUNT(crew.id) AS crew_count, COUNT(cast.id) AS cast_count\n",
    "FROM movies\n",
    "LEFT JOIN crew ON movies.id = crew.movie_id\n",
    "LEFT JOIN cast ON movies.id = cast.movie_id\n",
    "GROUP BY movies.id\n",
    "ORDER BY crew_count DESC, cast_count DESC\n",
    "``\n"
   ]
  },
  {
   "cell_type": "markdown",
   "id": "d75fc8bd",
   "metadata": {},
   "source": [
    "# 10. Write a SQL query to list top 10 movies title according to popularity column in decreasing order"
   ]
  },
  {
   "cell_type": "code",
   "execution_count": null,
   "id": "fa94955c",
   "metadata": {},
   "outputs": [],
   "source": [
    "SELECT title, popularity \n",
    "FROM movies \n",
    "ORDER BY popularity DESC \n",
    "LIMIT 10\n"
   ]
  },
  {
   "cell_type": "markdown",
   "id": "2348998f",
   "metadata": {},
   "source": [
    "# 11. Write a SQL query to show the name of the 3rd most revenue generating movie and its revenue."
   ]
  },
  {
   "cell_type": "code",
   "execution_count": null,
   "id": "b7883c8f",
   "metadata": {},
   "outputs": [],
   "source": [
    "SELECT name, revenue \n",
    "FROM movies \n",
    "ORDER BY revenue DESC \n",
    "LIMIT 2,1\n"
   ]
  },
  {
   "cell_type": "markdown",
   "id": "f2b0ed4c",
   "metadata": {},
   "source": [
    "# 12. Write a SQL query to show the names of all the movies which have “rumoured” movie status.\n"
   ]
  },
  {
   "cell_type": "code",
   "execution_count": null,
   "id": "4698acb2",
   "metadata": {},
   "outputs": [],
   "source": [
    "SELECT name \n",
    "FROM movies \n",
    "WHERE status = 'rumoured'\n"
   ]
  },
  {
   "cell_type": "markdown",
   "id": "6e255da5",
   "metadata": {},
   "source": [
    "# 13. Write a SQL query to show the name of the “United States of America” produced movie which generated maximum revenue"
   ]
  },
  {
   "cell_type": "code",
   "execution_count": null,
   "id": "15242719",
   "metadata": {},
   "outputs": [],
   "source": [
    "select country, revenue\n",
    "from reporting r\n",
    "where revenue = (select max(revenue) from reporting r2 where r.country = United Sates of America )\n",
    "group by country"
   ]
  },
  {
   "cell_type": "markdown",
   "id": "2aa2920e",
   "metadata": {},
   "source": [
    "# 14. Write a SQL query to print the movie_id in one column and name of the production company in the second column for all the movies."
   ]
  },
  {
   "cell_type": "code",
   "execution_count": null,
   "id": "8e49c20d",
   "metadata": {},
   "outputs": [],
   "source": []
  },
  {
   "cell_type": "markdown",
   "id": "257182fd",
   "metadata": {},
   "source": [
    "# 15. Write a SQL query to show the title of top 20 movies arranged in decreasing order of their budget.\n"
   ]
  },
  {
   "cell_type": "code",
   "execution_count": null,
   "id": "60f15aae",
   "metadata": {},
   "outputs": [],
   "source": []
  }
 ],
 "metadata": {
  "kernelspec": {
   "display_name": "Python 3 (ipykernel)",
   "language": "python",
   "name": "python3"
  },
  "language_info": {
   "codemirror_mode": {
    "name": "ipython",
    "version": 3
   },
   "file_extension": ".py",
   "mimetype": "text/x-python",
   "name": "python",
   "nbconvert_exporter": "python",
   "pygments_lexer": "ipython3",
   "version": "3.9.12"
  }
 },
 "nbformat": 4,
 "nbformat_minor": 5
}
