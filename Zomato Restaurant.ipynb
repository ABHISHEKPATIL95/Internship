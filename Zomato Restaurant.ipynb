{
 "cells": [
  {
   "cell_type": "code",
   "execution_count": 1,
   "id": "8525cc03",
   "metadata": {},
   "outputs": [],
   "source": [
    "import pandas as pd\n",
    "import requests\n",
    "from io import StringIO"
   ]
  },
  {
   "cell_type": "code",
   "execution_count": 2,
   "id": "5441dbee",
   "metadata": {},
   "outputs": [],
   "source": [
    "\n",
    "zomato_url = 'https://github.com/dsrscientist/dataset4/raw/main/zomato.csv'"
   ]
  },
  {
   "cell_type": "code",
   "execution_count": 4,
   "id": "2c2868a0",
   "metadata": {},
   "outputs": [],
   "source": [
    "response = requests.get(zomato_url)\n",
    "csv_data = response.content.decode('latin-1')"
   ]
  },
  {
   "cell_type": "code",
   "execution_count": 5,
   "id": "f4b24cd2",
   "metadata": {},
   "outputs": [],
   "source": [
    "zomato_df = pd.read_csv(StringIO(csv_data))\n"
   ]
  },
  {
   "cell_type": "code",
   "execution_count": 6,
   "id": "57b1a5d2",
   "metadata": {},
   "outputs": [],
   "source": [
    "country_code_df = pd.read_excel('https://github.com/dsrscientist/dataset4/raw/main/Country-Code.xlsx')"
   ]
  },
  {
   "cell_type": "code",
   "execution_count": 7,
   "id": "b5abdd21",
   "metadata": {},
   "outputs": [],
   "source": [
    "merged_df = pd.merge(zomato_df, country_code_df, on='Country Code')"
   ]
  },
  {
   "cell_type": "code",
   "execution_count": 9,
   "id": "1e617310",
   "metadata": {},
   "outputs": [],
   "source": [
    "average_cost = merged_df.groupby('Country')['Average Cost for two'].mean()\n"
   ]
  },
  {
   "cell_type": "code",
   "execution_count": 15,
   "id": "bc83feb2",
   "metadata": {},
   "outputs": [
    {
     "name": "stdout",
     "output_type": "stream",
     "text": [
      "Average Cost for two in different countries:\n",
      "Country\n",
      "Australia             24.083333\n",
      "Brazil               134.666667\n",
      "Canada                36.250000\n",
      "India                623.370319\n",
      "Indonesia         281190.476190\n",
      "New Zealand           69.750000\n",
      "Phillipines         1606.818182\n",
      "Qatar                223.750000\n",
      "Singapore            155.750000\n",
      "South Africa         419.733333\n",
      "Sri Lanka           2375.000000\n",
      "Turkey                84.852941\n",
      "UAE                  166.416667\n",
      "United Kingdom        47.812500\n",
      "United States         26.152074\n",
      "Name: Average Cost for two, dtype: float64\n"
     ]
    }
   ],
   "source": [
    "print(\"Average Cost for two in different countries:\")\n",
    "print(average_cost)"
   ]
  },
  {
   "cell_type": "code",
   "execution_count": 12,
   "id": "d616b152",
   "metadata": {},
   "outputs": [],
   "source": [
    "price_range = merged_df.groupby('Country')['Price range'].unique()\n"
   ]
  },
  {
   "cell_type": "code",
   "execution_count": 13,
   "id": "7d75afb5",
   "metadata": {},
   "outputs": [
    {
     "name": "stdout",
     "output_type": "stream",
     "text": [
      "\n",
      "Price range in different countries:\n",
      "Country\n",
      "Australia         [2, 1, 3, 4]\n",
      "Brazil            [2, 1, 3, 4]\n",
      "Canada                  [2, 4]\n",
      "India             [3, 2, 4, 1]\n",
      "Indonesia               [3, 2]\n",
      "New Zealand       [2, 1, 3, 4]\n",
      "Phillipines          [3, 4, 2]\n",
      "Qatar                [4, 3, 2]\n",
      "Singapore            [4, 2, 3]\n",
      "South Africa         [3, 4, 2]\n",
      "Sri Lanka            [3, 2, 4]\n",
      "Turkey               [3, 2, 4]\n",
      "UAE                  [4, 3, 2]\n",
      "United Kingdom    [1, 3, 2, 4]\n",
      "United States     [2, 1, 4, 3]\n",
      "Name: Price range, dtype: object\n"
     ]
    }
   ],
   "source": [
    "print(\"\\nPrice range in different countries:\")\n",
    "print(price_range)"
   ]
  },
  {
   "cell_type": "code",
   "execution_count": null,
   "id": "7cf26b99",
   "metadata": {},
   "outputs": [],
   "source": []
  }
 ],
 "metadata": {
  "kernelspec": {
   "display_name": "Python 3 (ipykernel)",
   "language": "python",
   "name": "python3"
  },
  "language_info": {
   "codemirror_mode": {
    "name": "ipython",
    "version": 3
   },
   "file_extension": ".py",
   "mimetype": "text/x-python",
   "name": "python",
   "nbconvert_exporter": "python",
   "pygments_lexer": "ipython3",
   "version": "3.10.9"
  }
 },
 "nbformat": 4,
 "nbformat_minor": 5
}
