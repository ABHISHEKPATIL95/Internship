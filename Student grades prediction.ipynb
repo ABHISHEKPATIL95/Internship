{
 "cells": [
  {
   "cell_type": "code",
   "execution_count": 8,
   "id": "9808eb0c",
   "metadata": {},
   "outputs": [],
   "source": [
    "import pandas as pd\n",
    "import numpy as np\n",
    "from sklearn.linear_model import LinearRegression\n",
    "from sklearn.model_selection import train_test_split\n",
    "from sklearn.metrics import r2_score"
   ]
  },
  {
   "cell_type": "code",
   "execution_count": 15,
   "id": "aa38dd5c",
   "metadata": {},
   "outputs": [],
   "source": [
    "# Load the dataset\n",
    "url = 'https://raw.githubusercontent.com/dsrscientist/dataset4/main/Grades.csv'\n",
    "df = pd.read_csv(url)"
   ]
  },
  {
   "cell_type": "code",
   "execution_count": 18,
   "id": "dc32352e",
   "metadata": {},
   "outputs": [
    {
     "name": "stdout",
     "output_type": "stream",
     "text": [
      "   Seat No. PH-121 HS-101 CY-105 HS-105/12 MT-111 CS-105 CS-106 EL-102 EE-119  \\\n",
      "0  CS-97001     B-     D+     C-         C     C-     D+      D     C-     B-   \n",
      "1  CS-97002      A      D     D+         D     B-      C      D      A     D+   \n",
      "2  CS-97003      A      B      A        B-     B+      A     B-     B+     A-   \n",
      "3  CS-97004      D     C+     D+         D      D     A-     D+     C-      D   \n",
      "4  CS-97005     A-     A-     A-        B+      A      A     A-     B+      A   \n",
      "\n",
      "   ... CS-312 CS-317 CS-403 CS-421 CS-406 CS-414 CS-419 CS-423 CS-412   CGPA  \n",
      "0  ...     C-     C-     C-     C-     A-      A     C-      B     A-  2.205  \n",
      "1  ...     D+      D      C      D     A-     B-      C      C      B  2.008  \n",
      "2  ...      B      B      A      C      A      A      A     A-      A  3.608  \n",
      "3  ...     D+      C     D+     C-     B-      B     C+     C+     C+  1.906  \n",
      "4  ...     B-     B+     B+     B-     A-      A     A-     A-      A  3.448  \n",
      "\n",
      "[5 rows x 43 columns]\n"
     ]
    }
   ],
   "source": [
    "# Print the first few rows of the dataset\n",
    "print(df.head())"
   ]
  },
  {
   "cell_type": "code",
   "execution_count": 20,
   "id": "8456da53",
   "metadata": {},
   "outputs": [
    {
     "name": "stdout",
     "output_type": "stream",
     "text": [
      "Shape: (571, 43)\n"
     ]
    }
   ],
   "source": [
    "# Check the shape of the dataset\n",
    "print('Shape:', df.shape)"
   ]
  },
  {
   "cell_type": "code",
   "execution_count": 21,
   "id": "046f988a",
   "metadata": {},
   "outputs": [
    {
     "name": "stdout",
     "output_type": "stream",
     "text": [
      "Seat No.      object\n",
      "PH-121        object\n",
      "HS-101        object\n",
      "CY-105        object\n",
      "HS-105/12     object\n",
      "MT-111        object\n",
      "CS-105        object\n",
      "CS-106        object\n",
      "EL-102        object\n",
      "EE-119        object\n",
      "ME-107        object\n",
      "CS-107        object\n",
      "HS-205/20     object\n",
      "MT-222        object\n",
      "EE-222        object\n",
      "MT-224        object\n",
      "CS-210        object\n",
      "CS-211        object\n",
      "CS-203        object\n",
      "CS-214        object\n",
      "EE-217        object\n",
      "CS-212        object\n",
      "CS-215        object\n",
      "MT-331        object\n",
      "EF-303        object\n",
      "HS-304        object\n",
      "CS-301        object\n",
      "CS-302        object\n",
      "TC-383        object\n",
      "MT-442        object\n",
      "EL-332        object\n",
      "CS-318        object\n",
      "CS-306        object\n",
      "CS-312        object\n",
      "CS-317        object\n",
      "CS-403        object\n",
      "CS-421        object\n",
      "CS-406        object\n",
      "CS-414        object\n",
      "CS-419        object\n",
      "CS-423        object\n",
      "CS-412        object\n",
      "CGPA         float64\n",
      "dtype: object\n"
     ]
    }
   ],
   "source": [
    "# Check the data types of the columns\n",
    "print(df.dtypes)"
   ]
  },
  {
   "cell_type": "code",
   "execution_count": 22,
   "id": "06b1dfaf",
   "metadata": {},
   "outputs": [
    {
     "name": "stdout",
     "output_type": "stream",
     "text": [
      "Missing values: 425\n"
     ]
    }
   ],
   "source": [
    "\n",
    "print('Missing values:', df.isna().sum().sum())"
   ]
  },
  {
   "cell_type": "code",
   "execution_count": 25,
   "id": "13787aa4",
   "metadata": {},
   "outputs": [],
   "source": [
    "X = df.iloc[:, 1:-1] \n",
    "y = df['CGPA']"
   ]
  },
  {
   "cell_type": "code",
   "execution_count": 26,
   "id": "085a77e5",
   "metadata": {},
   "outputs": [],
   "source": [
    "X = df.iloc[:, 1:]\n",
    "y = df['CGPA']"
   ]
  },
  {
   "cell_type": "code",
   "execution_count": 28,
   "id": "9ae36529",
   "metadata": {},
   "outputs": [],
   "source": [
    "from sklearn.model_selection import train_test_split\n",
    "X_train, X_test, y_train, y_test = train_test_split(X, y, test_size=0.2, random_state=42)\n"
   ]
  },
  {
   "cell_type": "code",
   "execution_count": 41,
   "id": "6cd392a4",
   "metadata": {},
   "outputs": [],
   "source": [
    "if 'A' in X_train.columns:\n",
    "    X_train_encoded = pd.get_dummies(X_train, columns=['A'])\n",
    "else:\n",
    "    # handle the case where column 'A' is not present in X_train\n",
    "    X_train_encoded = X_train.copy()\n",
    "\n"
   ]
  },
  {
   "cell_type": "code",
   "execution_count": 55,
   "id": "2afaf617",
   "metadata": {},
   "outputs": [],
   "source": [
    "X_test_encoded = pd.get_dummies(X_test)\n"
   ]
  },
  {
   "cell_type": "code",
   "execution_count": 56,
   "id": "8f4cc5c7",
   "metadata": {
    "scrolled": true
   },
   "outputs": [],
   "source": [
    "from sklearn.preprocessing import LabelEncoder"
   ]
  },
  {
   "cell_type": "code",
   "execution_count": 57,
   "id": "5505a290",
   "metadata": {},
   "outputs": [],
   "source": [
    "# Assuming X_train and y_train are the training data\n",
    "encoder = LabelEncoder()\n",
    "y_train_encoded = encoder.fit_transform(y_train)\n",
    "\n"
   ]
  },
  {
   "cell_type": "code",
   "execution_count": 84,
   "id": "2f8c6837",
   "metadata": {},
   "outputs": [],
   "source": [
    "\n",
    "from sklearn.preprocessing import LabelEncoder\n",
    "\n",
    "# Initialize the LabelEncoder\n",
    "encoder = LabelEncoder()\n",
    "\n",
    "# Fit the encoder on the training data\n",
    "encoder.fit(y_train)\n",
    "\n",
    "# Transform the test data using the fitted encoder\n",
    "y_test_encoded = encoder.transform(y_test)\n",
    "\n",
    "# Inverse transform the encoded labels to original labels\n",
    "y_test_decoded = encoder.inverse_transform(y_test_encoded)\n",
    "\n",
    "# Check for unseen labels in y_test\n",
    "unseen_labels = set(y_test) - set(y_test_decoded)\n",
    "if unseen_labels:\n",
    "    y_test_decoded = [label for label in y_test_decoded if label not in unseen_labels]\n"
   ]
  },
  {
   "cell_type": "code",
   "execution_count": 87,
   "id": "5deb83f3",
   "metadata": {},
   "outputs": [
    {
     "name": "stdout",
     "output_type": "stream",
     "text": [
      "Column 'category' does not exist in X_train.\n"
     ]
    }
   ],
   "source": [
    "# Check that the column name exists in the dataframe\n",
    "if 'category' in X_train.columns:\n",
    "    # Fit the encoder on the training data\n",
    "    encoder.fit(X_train['category'])\n",
    "\n",
    "    # Transform the test data using the fitted encoder\n",
    "    X_test_encoded = encoder.transform(X_test['category'])\n",
    "\n",
    "    # Get a list of all the classes used for encoding\n",
    "    classes = list(encoder.classes_)\n",
    "\n",
    "    # Check for unseen labels in the test set\n",
    "    unseen_labels = set(y_test) - set(classes)\n",
    "\n",
    "    # Remove the unseen labels from y_test\n",
    "    if unseen_labels:\n",
    "        y_test = [label for label in y_test if label not in unseen_labels]\n",
    "else:\n",
    "    print(\"Column 'category' does not exist in X_train.\")\n",
    "\n",
    "\n"
   ]
  },
  {
   "cell_type": "code",
   "execution_count": 66,
   "id": "073c8d6b",
   "metadata": {},
   "outputs": [],
   "source": [
    "mask = np.isin(y_test_encoded, np.unique(y_train_encoded))\n",
    "idx = np.where(mask)[0]\n",
    "y_test_encoded = y_test_encoded[idx]\n",
    "X_test = X_test.iloc[idx, :]\n"
   ]
  },
  {
   "cell_type": "code",
   "execution_count": 69,
   "id": "fdb01cbe",
   "metadata": {},
   "outputs": [],
   "source": [
    "# create the LabelEncoder object\n",
    "encoder = LabelEncoder()\n",
    "\n",
    "\n"
   ]
  },
  {
   "cell_type": "code",
   "execution_count": 74,
   "id": "dcdaa960",
   "metadata": {},
   "outputs": [
    {
     "name": "stdout",
     "output_type": "stream",
     "text": [
      "The 'category' column does not exist in X_test\n"
     ]
    }
   ],
   "source": [
    "## check if the 'category' column exists in X_test\n",
    "if 'category' in X_test.columns:\n",
    "    X_test['category'] = X_test['category'].astype('category')\n",
    "    X_test['category'] = X_test['category'].cat.set_categories(encoder.classes_)\n",
    "else:\n",
    "    # handle the case when the 'category' column is not present in X_test\n",
    "    print(\"The 'category' column does not exist in X_test\")\n"
   ]
  },
  {
   "cell_type": "code",
   "execution_count": 90,
   "id": "a52fede6",
   "metadata": {},
   "outputs": [
    {
     "name": "stdout",
     "output_type": "stream",
     "text": [
      "Index(['PH-121', 'HS-101', 'CY-105', 'HS-105/12', 'MT-111', 'CS-105', 'CS-106',\n",
      "       'EL-102', 'EE-119', 'ME-107', 'CS-107', 'HS-205/20', 'MT-222', 'EE-222',\n",
      "       'MT-224', 'CS-210', 'CS-211', 'CS-203', 'CS-214', 'EE-217', 'CS-212',\n",
      "       'CS-215', 'MT-331', 'EF-303', 'HS-304', 'CS-301', 'CS-302', 'TC-383',\n",
      "       'MT-442', 'EL-332', 'CS-318', 'CS-306', 'CS-312', 'CS-317', 'CS-403',\n",
      "       'CS-421', 'CS-406', 'CS-414', 'CS-419', 'CS-423', 'CS-412', 'CGPA'],\n",
      "      dtype='object')\n"
     ]
    }
   ],
   "source": [
    "print(X_train.columns)\n"
   ]
  }
 ],
 "metadata": {
  "kernelspec": {
   "display_name": "Python 3 (ipykernel)",
   "language": "python",
   "name": "python3"
  },
  "language_info": {
   "codemirror_mode": {
    "name": "ipython",
    "version": 3
   },
   "file_extension": ".py",
   "mimetype": "text/x-python",
   "name": "python",
   "nbconvert_exporter": "python",
   "pygments_lexer": "ipython3",
   "version": "3.10.9"
  }
 },
 "nbformat": 4,
 "nbformat_minor": 5
}
