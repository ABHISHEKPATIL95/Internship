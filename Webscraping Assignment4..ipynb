{
 "cells": [
  {
   "cell_type": "markdown",
   "id": "b1ba07a0",
   "metadata": {},
   "source": [
    "# 1"
   ]
  },
  {
   "cell_type": "code",
   "execution_count": null,
   "id": "4ff227ef",
   "metadata": {},
   "outputs": [],
   "source": [
    "#Importing required libraries\n",
    "import selenium\n",
    "import pandas as pd\n",
    "from selenium import webdriver\n",
    "from selenium.common.exceptions import NoSuchElementException, ElementNotInteractableException"
   ]
  },
  {
   "cell_type": "code",
   "execution_count": null,
   "id": "b06b99c6",
   "metadata": {},
   "outputs": [],
   "source": [
    "#Connect to web driver\n",
    "driver=webdriver.Chrome(r\"D://chromedriver.exe\")  #r converts string to raw string\n",
    "#If not r, we can use executable_path = \"C:/path name\"       "
   ]
  },
  {
   "cell_type": "code",
   "execution_count": null,
   "id": "76d84816",
   "metadata": {},
   "outputs": [],
   "source": [
    "#Getting the website to driver\n",
    "driver.get('https://en.wikipedia.org/wiki/List_of_most-viewed_YouTube_videos')\n",
    "\n",
    "#When we run this line, automatically the webpage will be opened"
   ]
  },
  {
   "cell_type": "code",
   "execution_count": null,
   "id": "8097d3d1",
   "metadata": {},
   "outputs": [],
   "source": [
    "#Creating the empty lists to store the scraped data\n",
    "Rank=[]\n",
    "Name=[]\n",
    "Artist=[]\n",
    "Upload_Date=[]\n",
    "Views=[]\n",
    "\n",
    "#As we need only the first 30 details, we will iterate only for first 30 data\n",
    "#Scrapping the details of the Rank of the video\n",
    "rank=driver.find_elements_by_xpath(\"//table[@class='wikitable sortable jquery-tablesorter']/tbody/tr/td[1]\")\n",
    "for i in rank[:30]:\n",
    "    Rank.append(i.text)\n",
    "    \n",
    "#Scrapping the details of the video name\n",
    "video=driver.find_elements_by_xpath(\"//table[@class='wikitable sortable jquery-tablesorter']/tbody/tr/td[2]\")\n",
    "for i in video[:30]:\n",
    "    Name.append(i.text)\n",
    "    \n",
    "#Scrapping the details of the Artist name\n",
    "artist=driver.find_elements_by_xpath(\"//table[@class='wikitable sortable jquery-tablesorter']/tbody/tr/td[3]\")\n",
    "for i in artist[:30]:\n",
    "    Artist.append(i.text)\n",
    "    \n",
    "#Scrapping the details of the upload date\n",
    "date=driver.find_elements_by_xpath(\"//table[@class='wikitable sortable jquery-tablesorter']/tbody/tr/td[5]\")\n",
    "for i in date[:30]:\n",
    "    Upload_Date.append(i.text)\n",
    "    \n",
    "#Scrapping the details of the views information\n",
    "views=driver.find_elements_by_xpath(\"//table[@class='wikitable sortable jquery-tablesorter']/tbody/tr/td[4]\")\n",
    "for i in views[:30]:\n",
    "    Views.append(i.text)\n",
    "    "
   ]
  },
  {
   "cell_type": "code",
   "execution_count": 1,
   "id": "9412686f",
   "metadata": {},
   "outputs": [
    {
     "ename": "NameError",
     "evalue": "name 'pd' is not defined",
     "output_type": "error",
     "traceback": [
      "\u001b[1;31m---------------------------------------------------------------------------\u001b[0m",
      "\u001b[1;31mNameError\u001b[0m                                 Traceback (most recent call last)",
      "Input \u001b[1;32mIn [1]\u001b[0m, in \u001b[0;36m<cell line: 2>\u001b[1;34m()\u001b[0m\n\u001b[0;32m      1\u001b[0m \u001b[38;5;66;03m#Creating a dataframe for storing the scraped data\u001b[39;00m\n\u001b[1;32m----> 2\u001b[0m Yt_data\u001b[38;5;241m=\u001b[39m\u001b[43mpd\u001b[49m\u001b[38;5;241m.\u001b[39mDataFrame({})\n\u001b[0;32m      3\u001b[0m Yt_data[\u001b[38;5;124m'\u001b[39m\u001b[38;5;124mRank\u001b[39m\u001b[38;5;124m'\u001b[39m]\u001b[38;5;241m=\u001b[39mRank\n\u001b[0;32m      4\u001b[0m Yt_data[\u001b[38;5;124m'\u001b[39m\u001b[38;5;124mVideo Name\u001b[39m\u001b[38;5;124m'\u001b[39m]\u001b[38;5;241m=\u001b[39mName\n",
      "\u001b[1;31mNameError\u001b[0m: name 'pd' is not defined"
     ]
    }
   ],
   "source": [
    "#Creating a dataframe for storing the scraped data\n",
    "Yt_data=pd.DataFrame({})\n",
    "Yt_data['Rank']=Rank\n",
    "Yt_data['Video Name']=Name\n",
    "Yt_data['Artist']=Artist\n",
    "Yt_data['Upload Date']=Upload_Date\n",
    "Yt_data['Views(Billions)']=Views\n",
    "Yt_data"
   ]
  },
  {
   "cell_type": "code",
   "execution_count": 2,
   "id": "a03a9e4c",
   "metadata": {},
   "outputs": [
    {
     "ename": "NameError",
     "evalue": "name 'Yt_data' is not defined",
     "output_type": "error",
     "traceback": [
      "\u001b[1;31m---------------------------------------------------------------------------\u001b[0m",
      "\u001b[1;31mNameError\u001b[0m                                 Traceback (most recent call last)",
      "Input \u001b[1;32mIn [2]\u001b[0m, in \u001b[0;36m<cell line: 2>\u001b[1;34m()\u001b[0m\n\u001b[0;32m      1\u001b[0m \u001b[38;5;66;03m#Removing the stray numbers from videoname\u001b[39;00m\n\u001b[1;32m----> 2\u001b[0m new\u001b[38;5;241m=\u001b[39m\u001b[43mYt_data\u001b[49m[\u001b[38;5;124m\"\u001b[39m\u001b[38;5;124mVideo Name\u001b[39m\u001b[38;5;124m\"\u001b[39m]\u001b[38;5;241m.\u001b[39mstr\u001b[38;5;241m.\u001b[39msplit(\u001b[38;5;124m\"\u001b[39m\u001b[38;5;124m[\u001b[39m\u001b[38;5;124m\"\u001b[39m, n \u001b[38;5;241m=\u001b[39m \u001b[38;5;241m1\u001b[39m, expand \u001b[38;5;241m=\u001b[39m \u001b[38;5;28;01mTrue\u001b[39;00m) \n\u001b[0;32m      3\u001b[0m new\n",
      "\u001b[1;31mNameError\u001b[0m: name 'Yt_data' is not defined"
     ]
    }
   ],
   "source": [
    "#Removing the stray numbers from videoname\n",
    "new=Yt_data[\"Video Name\"].str.split(\"[\", n = 1, expand = True) \n",
    "new"
   ]
  },
  {
   "cell_type": "code",
   "execution_count": 3,
   "id": "1ba0c848",
   "metadata": {},
   "outputs": [
    {
     "ename": "NameError",
     "evalue": "name 'Yt_data' is not defined",
     "output_type": "error",
     "traceback": [
      "\u001b[1;31m---------------------------------------------------------------------------\u001b[0m",
      "\u001b[1;31mNameError\u001b[0m                                 Traceback (most recent call last)",
      "Input \u001b[1;32mIn [3]\u001b[0m, in \u001b[0;36m<cell line: 2>\u001b[1;34m()\u001b[0m\n\u001b[0;32m      1\u001b[0m \u001b[38;5;66;03m#Dropping the column with stray numbers\u001b[39;00m\n\u001b[1;32m----> 2\u001b[0m \u001b[43mYt_data\u001b[49m\u001b[38;5;241m.\u001b[39mdrop(columns\u001b[38;5;241m=\u001b[39m[\u001b[38;5;124m'\u001b[39m\u001b[38;5;124mVideo Name\u001b[39m\u001b[38;5;124m'\u001b[39m],axis\u001b[38;5;241m=\u001b[39m\u001b[38;5;241m1\u001b[39m,inplace\u001b[38;5;241m=\u001b[39m\u001b[38;5;28;01mTrue\u001b[39;00m)\n\u001b[0;32m      4\u001b[0m \u001b[38;5;66;03m#Inserting the name column\u001b[39;00m\n\u001b[0;32m      5\u001b[0m Yt_data\u001b[38;5;241m.\u001b[39minsert(\u001b[38;5;241m1\u001b[39m,\u001b[38;5;124m\"\u001b[39m\u001b[38;5;124mVideo Name\u001b[39m\u001b[38;5;124m\"\u001b[39m,new[\u001b[38;5;241m0\u001b[39m])\n",
      "\u001b[1;31mNameError\u001b[0m: name 'Yt_data' is not defined"
     ]
    }
   ],
   "source": [
    "#Dropping the column with stray numbers\n",
    "Yt_data.drop(columns=['Video Name'],axis=1,inplace=True)\n",
    "\n",
    "#Inserting the name column\n",
    "Yt_data.insert(1,\"Video Name\",new[0])\n",
    "\n",
    "#Checking the data after removing the stray numbers\n",
    "Yt_data  "
   ]
  },
  {
   "cell_type": "code",
   "execution_count": 4,
   "id": "0da49b03",
   "metadata": {},
   "outputs": [
    {
     "ename": "NameError",
     "evalue": "name 'driver' is not defined",
     "output_type": "error",
     "traceback": [
      "\u001b[1;31m---------------------------------------------------------------------------\u001b[0m",
      "\u001b[1;31mNameError\u001b[0m                                 Traceback (most recent call last)",
      "Input \u001b[1;32mIn [4]\u001b[0m, in \u001b[0;36m<cell line: 2>\u001b[1;34m()\u001b[0m\n\u001b[0;32m      1\u001b[0m \u001b[38;5;66;03m#Closing the driver\u001b[39;00m\n\u001b[1;32m----> 2\u001b[0m \u001b[43mdriver\u001b[49m\u001b[38;5;241m.\u001b[39mclose()\n",
      "\u001b[1;31mNameError\u001b[0m: name 'driver' is not defined"
     ]
    }
   ],
   "source": [
    "#Closing the driver\n",
    "driver.close()\n"
   ]
  },
  {
   "cell_type": "markdown",
   "id": "ad28fbe4",
   "metadata": {},
   "source": [
    "# Q2"
   ]
  },
  {
   "cell_type": "code",
   "execution_count": null,
   "id": "47007ae2",
   "metadata": {},
   "outputs": [],
   "source": [
    "#Connect to web driver\n",
    "driver=webdriver.Chrome(r\"D://chromedriver.exe\")  #r converts string to raw string\n",
    "#If not r, we can use executable_path = \"C:/path name\""
   ]
  },
  {
   "cell_type": "code",
   "execution_count": null,
   "id": "53489de3",
   "metadata": {},
   "outputs": [],
   "source": [
    "#Getting the website to driver\n",
    "driver.get('https://www.bcci.tv/')\n",
    "\n",
    "#When we run this line, automatically the webpage will be opened"
   ]
  },
  {
   "cell_type": "code",
   "execution_count": null,
   "id": "76144096",
   "metadata": {},
   "outputs": [],
   "source": [
    "#Clicking international fixture section\n",
    "international=driver.find_element_by_xpath(\"//ul[@class='navigation__list showMoreEnabled']/li[1]/div[2]/div/ul/li[1]/a\")\n",
    "driver.get(international.get_attribute('href'))"
   ]
  },
  {
   "cell_type": "code",
   "execution_count": 5,
   "id": "fd1938d6",
   "metadata": {},
   "outputs": [
    {
     "ename": "NameError",
     "evalue": "name 'driver' is not defined",
     "output_type": "error",
     "traceback": [
      "\u001b[1;31m---------------------------------------------------------------------------\u001b[0m",
      "\u001b[1;31mNameError\u001b[0m                                 Traceback (most recent call last)",
      "Input \u001b[1;32mIn [5]\u001b[0m, in \u001b[0;36m<cell line: 9>\u001b[1;34m()\u001b[0m\n\u001b[0;32m      6\u001b[0m Time\u001b[38;5;241m=\u001b[39m[]\n\u001b[0;32m      8\u001b[0m \u001b[38;5;66;03m#Scrapping the data having the match name\u001b[39;00m\n\u001b[1;32m----> 9\u001b[0m name\u001b[38;5;241m=\u001b[39m\u001b[43mdriver\u001b[49m\u001b[38;5;241m.\u001b[39mfind_elements_by_xpath(\u001b[38;5;124m\"\u001b[39m\u001b[38;5;124m//strong[@class=\u001b[39m\u001b[38;5;124m'\u001b[39m\u001b[38;5;124mfixture__name fixture__name--with-margin\u001b[39m\u001b[38;5;124m'\u001b[39m\u001b[38;5;124m]\u001b[39m\u001b[38;5;124m\"\u001b[39m)\n\u001b[0;32m     10\u001b[0m \u001b[38;5;28;01mfor\u001b[39;00m i \u001b[38;5;129;01min\u001b[39;00m name:\n\u001b[0;32m     11\u001b[0m     Match\u001b[38;5;241m.\u001b[39mappend(i\u001b[38;5;241m.\u001b[39mtext)\n",
      "\u001b[1;31mNameError\u001b[0m: name 'driver' is not defined"
     ]
    }
   ],
   "source": [
    "#Creating empty lists for storing the scrapped data\n",
    "Match=[]\n",
    "Series=[]\n",
    "Place=[]\n",
    "Date=[]\n",
    "Time=[]\n",
    "\n",
    "#Scrapping the data having the match name\n",
    "name=driver.find_elements_by_xpath(\"//strong[@class='fixture__name fixture__name--with-margin']\")\n",
    "for i in name:\n",
    "    Match.append(i.text)\n",
    "\n",
    "#Scrapping the data having the series name\n",
    "series=driver.find_elements_by_xpath(\"//div[@class='fixture__format-strip']/span[2]\")\n",
    "for i in series:\n",
    "    Series.append(i.text)\n",
    "    \n",
    "#Scrapping the data having the place of match\n",
    "place=driver.find_elements_by_xpath(\"//p[@class='fixture__additional-info']/span\")\n",
    "for i in place:\n",
    "    Place.append(i.text)\n",
    "    \n",
    "#Scrapping the data having the match date\n",
    "date=driver.find_elements_by_xpath(\"//div[@class='fixture__datetime desktop-only']/div/span\")  #Only date\n",
    "month=driver.find_elements_by_xpath(\"//div[@class='fixture__datetime desktop-only']/div/div/span[1]\")  #Month\n",
    "for i in range(len(date)):\n",
    "    Date.append(date[i].text + month[i].text)  #Appending date and month texts together\n",
    "    \n",
    "#Scrapping the data having match time\n",
    "time=driver.find_elements_by_xpath(\"//div[@class='fixture__full-date']/div/span[2]\")\n",
    "for i in time:\n",
    "    Time.append(i.text)"
   ]
  },
  {
   "cell_type": "code",
   "execution_count": 6,
   "id": "5acadef2",
   "metadata": {},
   "outputs": [
    {
     "ename": "NameError",
     "evalue": "name 'pd' is not defined",
     "output_type": "error",
     "traceback": [
      "\u001b[1;31m---------------------------------------------------------------------------\u001b[0m",
      "\u001b[1;31mNameError\u001b[0m                                 Traceback (most recent call last)",
      "Input \u001b[1;32mIn [6]\u001b[0m, in \u001b[0;36m<cell line: 2>\u001b[1;34m()\u001b[0m\n\u001b[0;32m      1\u001b[0m \u001b[38;5;66;03m#Creating a Dataframe for the scrapped data\u001b[39;00m\n\u001b[1;32m----> 2\u001b[0m fixtures\u001b[38;5;241m=\u001b[39m\u001b[43mpd\u001b[49m\u001b[38;5;241m.\u001b[39mDataFrame({})\n\u001b[0;32m      3\u001b[0m fixtures[\u001b[38;5;124m'\u001b[39m\u001b[38;5;124mMatch name\u001b[39m\u001b[38;5;124m'\u001b[39m]\u001b[38;5;241m=\u001b[39mMatch\n\u001b[0;32m      4\u001b[0m fixtures[\u001b[38;5;124m'\u001b[39m\u001b[38;5;124mSeries\u001b[39m\u001b[38;5;124m'\u001b[39m]\u001b[38;5;241m=\u001b[39mSeries\n",
      "\u001b[1;31mNameError\u001b[0m: name 'pd' is not defined"
     ]
    }
   ],
   "source": [
    "#Creating a Dataframe for the scrapped data\n",
    "fixtures=pd.DataFrame({})\n",
    "fixtures['Match name']=Match\n",
    "fixtures['Series']=Series\n",
    "fixtures['Place']=Place\n",
    "fixtures['Date']=Date\n",
    "fixtures['Time']=Time\n",
    "fixtures"
   ]
  },
  {
   "cell_type": "code",
   "execution_count": 7,
   "id": "b733b33f",
   "metadata": {},
   "outputs": [
    {
     "ename": "NameError",
     "evalue": "name 'driver' is not defined",
     "output_type": "error",
     "traceback": [
      "\u001b[1;31m---------------------------------------------------------------------------\u001b[0m",
      "\u001b[1;31mNameError\u001b[0m                                 Traceback (most recent call last)",
      "Input \u001b[1;32mIn [7]\u001b[0m, in \u001b[0;36m<cell line: 2>\u001b[1;34m()\u001b[0m\n\u001b[0;32m      1\u001b[0m \u001b[38;5;66;03m#Closing the driver\u001b[39;00m\n\u001b[1;32m----> 2\u001b[0m \u001b[43mdriver\u001b[49m\u001b[38;5;241m.\u001b[39mclose()\n",
      "\u001b[1;31mNameError\u001b[0m: name 'driver' is not defined"
     ]
    }
   ],
   "source": [
    "#Closing the driver\n",
    "driver.close()"
   ]
  },
  {
   "cell_type": "markdown",
   "id": "6d1846cb",
   "metadata": {},
   "source": [
    "# Q3"
   ]
  },
  {
   "cell_type": "code",
   "execution_count": null,
   "id": "bdbcb939",
   "metadata": {},
   "outputs": [],
   "source": [
    "#Connect to web driver\n",
    "driver=webdriver.Chrome(r\"D://chromedriver.exe\")  #r converts string to raw string\n",
    "#If not r, we can use executable_path = \"C:/path name\""
   ]
  },
  {
   "cell_type": "code",
   "execution_count": null,
   "id": "0856b03d",
   "metadata": {},
   "outputs": [],
   "source": [
    "#Getting the website to driver\n",
    "driver.get('http://statisticstimes.com/')\n",
    "\n",
    "#When we run this line, automatically the webpage will be opened"
   ]
  },
  {
   "cell_type": "code",
   "execution_count": null,
   "id": "182de79d",
   "metadata": {},
   "outputs": [],
   "source": [
    "#Clicking the economy tab and then India option\n",
    "economy=driver.find_element_by_xpath(\"//div[@class='navbar']/div[2]/div/a[3]\")\n",
    "try:\n",
    "    economy.click()\n",
    "except ElementNotInteractableException:\n",
    "    driver.get(economy.get_attribute('href'))"
   ]
  },
  {
   "cell_type": "code",
   "execution_count": null,
   "id": "8ee9527b",
   "metadata": {},
   "outputs": [],
   "source": [
    "#Clicking on GDP of Indian states option\n",
    "gdp=driver.find_element_by_xpath(\"//div[@style='float:left;background-color:seashell;width:400px;height:800px;']/ul/li[1]\")\n",
    "try:\n",
    "    gdp.click()\n",
    "except ElementNotInteractableException:\n",
    "    driver.get(gdp.get_attribute('href'))    "
   ]
  },
  {
   "cell_type": "code",
   "execution_count": 10,
   "id": "988e4496",
   "metadata": {},
   "outputs": [
    {
     "ename": "NameError",
     "evalue": "name 'driver' is not defined",
     "output_type": "error",
     "traceback": [
      "\u001b[1;31m---------------------------------------------------------------------------\u001b[0m",
      "\u001b[1;31mNameError\u001b[0m                                 Traceback (most recent call last)",
      "Input \u001b[1;32mIn [10]\u001b[0m, in \u001b[0;36m<cell line: 10>\u001b[1;34m()\u001b[0m\n\u001b[0;32m      7\u001b[0m GDP\u001b[38;5;241m=\u001b[39m[]\n\u001b[0;32m      9\u001b[0m \u001b[38;5;66;03m#Scrapping the data having rank of the states\u001b[39;00m\n\u001b[1;32m---> 10\u001b[0m rank\u001b[38;5;241m=\u001b[39m\u001b[43mdriver\u001b[49m\u001b[38;5;241m.\u001b[39mfind_elements_by_xpath(\u001b[38;5;124m\"\u001b[39m\u001b[38;5;124m//table[@class=\u001b[39m\u001b[38;5;124m'\u001b[39m\u001b[38;5;124mdisplay dataTable\u001b[39m\u001b[38;5;124m'\u001b[39m\u001b[38;5;124m]/tbody/tr/td[1]\u001b[39m\u001b[38;5;124m\"\u001b[39m)\n\u001b[0;32m     11\u001b[0m \u001b[38;5;28;01mfor\u001b[39;00m i \u001b[38;5;129;01min\u001b[39;00m rank:\n\u001b[0;32m     12\u001b[0m     Rank\u001b[38;5;241m.\u001b[39mappend(i\u001b[38;5;241m.\u001b[39mtext)\n",
      "\u001b[1;31mNameError\u001b[0m: name 'driver' is not defined"
     ]
    }
   ],
   "source": [
    "#Creating empty lists for storing the scrapped data\n",
    "Rank=[]\n",
    "State=[]\n",
    "GSDP19_20=[]\n",
    "GSDP18_19=[]\n",
    "Share18_19=[]\n",
    "GDP=[]\n",
    "\n",
    "#Scrapping the data having rank of the states\n",
    "rank=driver.find_elements_by_xpath(\"//table[@class='display dataTable']/tbody/tr/td[1]\")\n",
    "for i in rank:\n",
    "    Rank.append(i.text)\n",
    "    \n",
    "#Scrapping the data having State name\n",
    "state=driver.find_elements_by_xpath(\"//table[@class='display dataTable']/tbody/tr/td[2]\")\n",
    "for i in state:\n",
    "    State.append(i.text)\n",
    "    \n",
    "#Scrapping the data having GSDP 18-19 data\n",
    "for i in driver.find_elements_by_xpath(\"//table[@class='display dataTable']/tbody/tr/td[4]\"):\n",
    "    GSDP18_19.append(i.text)\n",
    "    \n",
    "#Scrapping the data having GSDP 19-20 data\n",
    "for i in driver.find_elements_by_xpath(\"//table[@class='display dataTable']/tbody/tr/td[3]\"):\n",
    "    GSDP19_20.append(i.text)\n",
    "    \n",
    "    \n",
    "#Scrapping the data having Share 18-19 data\n",
    "for i in driver.find_elements_by_xpath(\"//table[@class='display dataTable']/tbody/tr/td[5]\"):\n",
    "    Share18_19.append(i.text)\n",
    "    \n",
    "#Scrapping the data having GDP billions data\n",
    "for i in driver.find_elements_by_xpath(\"//table[@class='display dataTable']/tbody/tr/td[6]\"):\n",
    "    GDP.append(i.text)"
   ]
  },
  {
   "cell_type": "code",
   "execution_count": 8,
   "id": "5903f45c",
   "metadata": {},
   "outputs": [
    {
     "ename": "NameError",
     "evalue": "name 'pd' is not defined",
     "output_type": "error",
     "traceback": [
      "\u001b[1;31m---------------------------------------------------------------------------\u001b[0m",
      "\u001b[1;31mNameError\u001b[0m                                 Traceback (most recent call last)",
      "Input \u001b[1;32mIn [8]\u001b[0m, in \u001b[0;36m<cell line: 2>\u001b[1;34m()\u001b[0m\n\u001b[0;32m      1\u001b[0m \u001b[38;5;66;03m#Creating a dataframe for the scrapped data\u001b[39;00m\n\u001b[1;32m----> 2\u001b[0m GDP_data\u001b[38;5;241m=\u001b[39m\u001b[43mpd\u001b[49m\u001b[38;5;241m.\u001b[39mDataFrame({\u001b[38;5;124m'\u001b[39m\u001b[38;5;124mRank\u001b[39m\u001b[38;5;124m'\u001b[39m:Rank,\u001b[38;5;124m'\u001b[39m\u001b[38;5;124mState\u001b[39m\u001b[38;5;124m'\u001b[39m:State,\u001b[38;5;124m'\u001b[39m\u001b[38;5;124mGSDP(19-20)\u001b[39m\u001b[38;5;124m'\u001b[39m:GSDP19_20,\u001b[38;5;124m'\u001b[39m\u001b[38;5;124mGSDP(18-19)\u001b[39m\u001b[38;5;124m'\u001b[39m:GSDP18_19,\u001b[38;5;124m'\u001b[39m\u001b[38;5;124mShare(18-19)\u001b[39m\u001b[38;5;124m'\u001b[39m:Share18_19,\n\u001b[0;32m      3\u001b[0m                       \u001b[38;5;124m'\u001b[39m\u001b[38;5;124mGDP($ billion)\u001b[39m\u001b[38;5;124m'\u001b[39m:GDP})\n\u001b[0;32m      4\u001b[0m GDP_data\n",
      "\u001b[1;31mNameError\u001b[0m: name 'pd' is not defined"
     ]
    }
   ],
   "source": [
    "#Creating a dataframe for the scrapped data\n",
    "GDP_data=pd.DataFrame({'Rank':Rank,'State':State,'GSDP(19-20)':GSDP19_20,'GSDP(18-19)':GSDP18_19,'Share(18-19)':Share18_19,\n",
    "                      'GDP($ billion)':GDP})\n",
    "GDP_data"
   ]
  },
  {
   "cell_type": "code",
   "execution_count": 9,
   "id": "afb7154c",
   "metadata": {},
   "outputs": [
    {
     "ename": "NameError",
     "evalue": "name 'driver' is not defined",
     "output_type": "error",
     "traceback": [
      "\u001b[1;31m---------------------------------------------------------------------------\u001b[0m",
      "\u001b[1;31mNameError\u001b[0m                                 Traceback (most recent call last)",
      "Input \u001b[1;32mIn [9]\u001b[0m, in \u001b[0;36m<cell line: 2>\u001b[1;34m()\u001b[0m\n\u001b[0;32m      1\u001b[0m \u001b[38;5;66;03m#Closing the driver\u001b[39;00m\n\u001b[1;32m----> 2\u001b[0m \u001b[43mdriver\u001b[49m\u001b[38;5;241m.\u001b[39mclose()\n",
      "\u001b[1;31mNameError\u001b[0m: name 'driver' is not defined"
     ]
    }
   ],
   "source": [
    "#Closing the driver\n",
    "driver.close()"
   ]
  },
  {
   "cell_type": "markdown",
   "id": "adbdf2c0",
   "metadata": {},
   "source": [
    "# Q4"
   ]
  },
  {
   "cell_type": "code",
   "execution_count": null,
   "id": "5141ebf8",
   "metadata": {},
   "outputs": [],
   "source": [
    "#Connect to web driver\n",
    "driver=webdriver.Chrome(r\"D://chromedriver.exe\")  #r converts string to raw string\n",
    "#If not r, we can use executable_path = \"C:/path name\""
   ]
  },
  {
   "cell_type": "code",
   "execution_count": null,
   "id": "d6332f0c",
   "metadata": {},
   "outputs": [],
   "source": [
    "#Getting the website to driver\n",
    "driver.get('https://github.com/')\n",
    "\n",
    "#When we run this line, automatically the webpage will be opened"
   ]
  },
  {
   "cell_type": "code",
   "execution_count": null,
   "id": "8a247269",
   "metadata": {},
   "outputs": [],
   "source": [
    "#Clicking explore tab and trending option using exception\n",
    "trending=driver.find_element_by_xpath(\"/html/body/div[1]/header/div/div[2]/nav/ul/li[4]/details/div/ul[2]/li[3]/a\")\n",
    "try:\n",
    "    trending.click()\n",
    "except ElementNotInteractableException as e:\n",
    "    driver.get(trending.get_attribute('href'))"
   ]
  },
  {
   "cell_type": "code",
   "execution_count": null,
   "id": "4f1cd92a",
   "metadata": {},
   "outputs": [],
   "source": [
    "#Creating empty lists for storing the scrapped data\n",
    "rep_title=[]\n",
    "rep_desc=[]\n",
    "Count=[]\n",
    "Lang=[]\n",
    "\n",
    "#Scrapping the data having the repository title\n",
    "title=driver.find_elements_by_xpath(\"//h1[@class='h3 lh-condensed']/a\")\n",
    "for i in title:\n",
    "    rep_title.append(i.text)\n",
    "    \n",
    "#Scrapping the data having the repository description\n",
    "desc=driver.find_elements_by_xpath(\"//p[@class='col-9 color-text-secondary my-1 pr-4']\")\n",
    "for i in desc:\n",
    "    rep_desc.append(i.text)\n",
    "    \n",
    "#Scrapping the data having the contributors count\n",
    "count=driver.find_elements_by_xpath(\"//div[@class='f6 color-text-secondary mt-2']/a[2]\")\n",
    "for i in count:\n",
    "    Count.append(i.text)\n",
    "    \n",
    "#Scrapping the data having the language used \n",
    "lang=driver.find_elements_by_xpath(\"//span[@class='d-inline-block ml-0 mr-3']\")\n",
    "for i in lang:\n",
    "    if i.text is None:\n",
    "        Lang.append('Not Available')\n",
    "    else:\n",
    "        Lang.append(i.text)"
   ]
  },
  {
   "cell_type": "code",
   "execution_count": 1,
   "id": "cf69ac95",
   "metadata": {},
   "outputs": [
    {
     "ename": "NameError",
     "evalue": "name 'rep_title' is not defined",
     "output_type": "error",
     "traceback": [
      "\u001b[1;31m---------------------------------------------------------------------------\u001b[0m",
      "\u001b[1;31mNameError\u001b[0m                                 Traceback (most recent call last)",
      "Input \u001b[1;32mIn [1]\u001b[0m, in \u001b[0;36m<cell line: 2>\u001b[1;34m()\u001b[0m\n\u001b[0;32m      1\u001b[0m \u001b[38;5;66;03m#Checking out the length of scrapped data\u001b[39;00m\n\u001b[1;32m----> 2\u001b[0m \u001b[38;5;28mprint\u001b[39m(\u001b[38;5;28mlen\u001b[39m(\u001b[43mrep_title\u001b[49m),\u001b[38;5;28mlen\u001b[39m(rep_desc),\u001b[38;5;28mlen\u001b[39m(Count),\u001b[38;5;28mlen\u001b[39m(Lang))\n",
      "\u001b[1;31mNameError\u001b[0m: name 'rep_title' is not defined"
     ]
    }
   ],
   "source": [
    "#Checking out the length of scrapped data\n",
    "print(len(rep_title),len(rep_desc),len(Count),len(Lang))"
   ]
  },
  {
   "cell_type": "code",
   "execution_count": 2,
   "id": "3ae3250e",
   "metadata": {},
   "outputs": [
    {
     "ename": "NameError",
     "evalue": "name 'pd' is not defined",
     "output_type": "error",
     "traceback": [
      "\u001b[1;31m---------------------------------------------------------------------------\u001b[0m",
      "\u001b[1;31mNameError\u001b[0m                                 Traceback (most recent call last)",
      "Input \u001b[1;32mIn [2]\u001b[0m, in \u001b[0;36m<cell line: 2>\u001b[1;34m()\u001b[0m\n\u001b[0;32m      1\u001b[0m \u001b[38;5;66;03m#Creating a dataframe for the scrapped data\u001b[39;00m\n\u001b[1;32m----> 2\u001b[0m github\u001b[38;5;241m=\u001b[39m\u001b[43mpd\u001b[49m\u001b[38;5;241m.\u001b[39mDataFrame({})\n\u001b[0;32m      3\u001b[0m github[\u001b[38;5;124m'\u001b[39m\u001b[38;5;124mRepository title\u001b[39m\u001b[38;5;124m'\u001b[39m]\u001b[38;5;241m=\u001b[39mrep_title[:\u001b[38;5;241m21\u001b[39m]\n\u001b[0;32m      4\u001b[0m github[\u001b[38;5;124m'\u001b[39m\u001b[38;5;124mDescription\u001b[39m\u001b[38;5;124m'\u001b[39m]\u001b[38;5;241m=\u001b[39mrep_desc[:\u001b[38;5;241m21\u001b[39m]\n",
      "\u001b[1;31mNameError\u001b[0m: name 'pd' is not defined"
     ]
    }
   ],
   "source": [
    "#Creating a dataframe for the scrapped data\n",
    "github=pd.DataFrame({})\n",
    "github['Repository title']=rep_title[:21]\n",
    "github['Description']=rep_desc[:21]\n",
    "github['Contributors count']=Count[:21]\n",
    "github['Language used']=Lang\n",
    "github"
   ]
  },
  {
   "cell_type": "markdown",
   "id": "33d7b171",
   "metadata": {},
   "source": [
    "# Q5"
   ]
  },
  {
   "cell_type": "code",
   "execution_count": null,
   "id": "1f9132f8",
   "metadata": {},
   "outputs": [],
   "source": [
    "#Connect to web driver\n",
    "driver=webdriver.Chrome(r\"D://chromedriver.exe\")  #r converts string to raw string\n",
    "#If not r, we can use executable_path = \"C:/path name\""
   ]
  },
  {
   "cell_type": "code",
   "execution_count": null,
   "id": "c306df26",
   "metadata": {},
   "outputs": [],
   "source": [
    "#Getting the website to driver\n",
    "driver.get('https://www.billboard.com/')\n",
    "\n",
    "#When we run this line, automatically the webpage will be opened"
   ]
  },
  {
   "cell_type": "code",
   "execution_count": null,
   "id": "49169837",
   "metadata": {},
   "outputs": [],
   "source": [
    "#Clicking charts and then hot100 option\n",
    "hot_100=driver.find_element_by_xpath(\"//nav[@class='header__subnav bg--light']/ul/li[3]/a\")\n",
    "try:\n",
    "    hot_100.click()\n",
    "except ElementNotInteractableException:\n",
    "    driver.get(hot_100.get_attribute('href'))"
   ]
  },
  {
   "cell_type": "code",
   "execution_count": null,
   "id": "e1ae59a9",
   "metadata": {},
   "outputs": [],
   "source": [
    "#Creating empty lists for storing the scrapped data\n",
    "Song=[]\n",
    "Artist=[]\n",
    "Lastweek=[]\n",
    "Peak=[]\n",
    "Weeks_on_board=[]\n",
    "\n",
    "#Scrapping the data having the song name\n",
    "song=driver.find_elements_by_xpath(\"//span[@class='chart-element__information__song text--truncate color--primary']\")\n",
    "for i in song:\n",
    "    Song.append(i.text)\n",
    "    \n",
    "#Scrapping the data having the artist name\n",
    "artist=driver.find_elements_by_xpath(\"//span[@class='chart-element__information__artist text--truncate color--secondary']\")\n",
    "for i in artist:\n",
    "    Artist.append(i.text)\n",
    "    \n",
    "#Scrapping the data having the last week rank\n",
    "last_week=driver.find_elements_by_xpath(\"//div[@class='chart-element__meta text--center color--secondary text--last']\")\n",
    "for i in last_week:\n",
    "    if i.text is None:\n",
    "        Lastweek.append('-')\n",
    "    else:\n",
    "        Lastweek.append(i.text)\n",
    "        \n",
    "#Scrapping the data having the peak rank\n",
    "peak=driver.find_elements_by_xpath(\"//div[@class='chart-element__meta text--center color--secondary text--peak']\")\n",
    "for i in peak:\n",
    "    if i.text is None:\n",
    "        Peak.append('-')\n",
    "    else:\n",
    "        Peak.append(i.text)\n",
    "        \n",
    " #Scrapping the data having weeks on board data\n",
    "weeks=driver.find_elements_by_xpath(\"//div[@class='chart-element__meta text--center color--secondary text--week']\")\n",
    "for i in weeks:\n",
    "    if i.text is None:\n",
    "        Weeks_on_board.append('-')\n",
    "    else:\n",
    "        Weeks_on_board.append(i.text)       "
   ]
  },
  {
   "cell_type": "code",
   "execution_count": 3,
   "id": "93e9975c",
   "metadata": {},
   "outputs": [
    {
     "ename": "NameError",
     "evalue": "name 'pd' is not defined",
     "output_type": "error",
     "traceback": [
      "\u001b[1;31m---------------------------------------------------------------------------\u001b[0m",
      "\u001b[1;31mNameError\u001b[0m                                 Traceback (most recent call last)",
      "Input \u001b[1;32mIn [3]\u001b[0m, in \u001b[0;36m<cell line: 2>\u001b[1;34m()\u001b[0m\n\u001b[0;32m      1\u001b[0m \u001b[38;5;66;03m#Creating a dataframe for the scrapped data\u001b[39;00m\n\u001b[1;32m----> 2\u001b[0m billboard\u001b[38;5;241m=\u001b[39m\u001b[43mpd\u001b[49m\u001b[38;5;241m.\u001b[39mDataFrame({\u001b[38;5;124m'\u001b[39m\u001b[38;5;124mSong\u001b[39m\u001b[38;5;124m'\u001b[39m:Song,\u001b[38;5;124m'\u001b[39m\u001b[38;5;124mArtist\u001b[39m\u001b[38;5;124m'\u001b[39m:Artist,\u001b[38;5;124m'\u001b[39m\u001b[38;5;124mLast week Rank\u001b[39m\u001b[38;5;124m'\u001b[39m:Lastweek,\u001b[38;5;124m'\u001b[39m\u001b[38;5;124mPeak Rank\u001b[39m\u001b[38;5;124m'\u001b[39m:Peak,\u001b[38;5;124m'\u001b[39m\u001b[38;5;124mWeeks on board\u001b[39m\u001b[38;5;124m'\u001b[39m:Weeks_on_board})\n\u001b[0;32m      3\u001b[0m billboard\n",
      "\u001b[1;31mNameError\u001b[0m: name 'pd' is not defined"
     ]
    }
   ],
   "source": [
    "#Creating a dataframe for the scrapped data\n",
    "billboard=pd.DataFrame({'Song':Song,'Artist':Artist,'Last week Rank':Lastweek,'Peak Rank':Peak,'Weeks on board':Weeks_on_board})\n",
    "billboard"
   ]
  },
  {
   "cell_type": "code",
   "execution_count": 4,
   "id": "a5b38795",
   "metadata": {},
   "outputs": [
    {
     "ename": "NameError",
     "evalue": "name 'driver' is not defined",
     "output_type": "error",
     "traceback": [
      "\u001b[1;31m---------------------------------------------------------------------------\u001b[0m",
      "\u001b[1;31mNameError\u001b[0m                                 Traceback (most recent call last)",
      "Input \u001b[1;32mIn [4]\u001b[0m, in \u001b[0;36m<cell line: 2>\u001b[1;34m()\u001b[0m\n\u001b[0;32m      1\u001b[0m \u001b[38;5;66;03m#Closing the driver\u001b[39;00m\n\u001b[1;32m----> 2\u001b[0m \u001b[43mdriver\u001b[49m\u001b[38;5;241m.\u001b[39mclose()\n",
      "\u001b[1;31mNameError\u001b[0m: name 'driver' is not defined"
     ]
    }
   ],
   "source": [
    "#Closing the driver\n",
    "driver.close()"
   ]
  },
  {
   "cell_type": "markdown",
   "id": "3d28a1c3",
   "metadata": {},
   "source": [
    "# Q6"
   ]
  },
  {
   "cell_type": "code",
   "execution_count": null,
   "id": "073d4e77",
   "metadata": {},
   "outputs": [],
   "source": [
    "#Connect to web driver\n",
    "driver=webdriver.Chrome(r\"D://chromedriver.exe\")  #r converts string to raw string\n",
    "#If not r, we can use executable_path = \"C:/path name\""
   ]
  },
  {
   "cell_type": "code",
   "execution_count": null,
   "id": "02159d23",
   "metadata": {},
   "outputs": [],
   "source": [
    "#Getting the website to driver\n",
    "driver.get('https://www.theguardian.com/news/datablog/2012/aug/09/best-selling-books-all-time-fifty-shades-grey-compare/')\n",
    "\n",
    "#When we run this line, automatically the webpage will be opened"
   ]
  },
  {
   "cell_type": "code",
   "execution_count": null,
   "id": "ebccad43",
   "metadata": {},
   "outputs": [],
   "source": [
    "#Creating empty lists to store the scrapped data\n",
    "Book=[]\n",
    "Author=[]\n",
    "Volume=[]\n",
    "Publisher=[]\n",
    "Genre=[]\n",
    "\n",
    "#Scrapping the data having the book name\n",
    "book=driver.find_elements_by_xpath(\"//table[@class='in-article sortable']/tbody/tr/td[2]\")\n",
    "for i in book:\n",
    "    Book.append(i.text)\n",
    "    \n",
    "#Scrapping the data having the author name\n",
    "author=driver.find_elements_by_xpath(\"//table[@class='in-article sortable']/tbody/tr/td[3]\")\n",
    "for i in author:\n",
    "    Author.append(i.text)\n",
    "    \n",
    "#Scrapping the data having the volumes sold details\n",
    "volume=driver.find_elements_by_xpath(\"//table[@class='in-article sortable']/tbody/tr/td[4]\")\n",
    "for i in volume:\n",
    "    Volume.append(i.text)\n",
    "\n",
    "#Scrapping the data having publisher details\n",
    "publisher=driver.find_elements_by_xpath(\"//table[@class='in-article sortable']/tbody/tr/td[5]\")\n",
    "for i in publisher:\n",
    "    Publisher.append(i.text)\n",
    "    \n",
    "#Scrapping the data having genre details \n",
    "genre=driver.find_elements_by_xpath(\"//table[@class='in-article sortable']/tbody/tr/td[6]\")\n",
    "for i in genre:\n",
    "    Genre.append(i.text)"
   ]
  },
  {
   "cell_type": "markdown",
   "id": "6632aaaa",
   "metadata": {},
   "source": [
    "Creating a dataframe for the scrapped data\n",
    "novels=pd.DataFrame({})\n",
    "novels['Book']=Book\n",
    "novels['Author']=Author\n",
    "novels['Volumes sold']=Volume\n",
    "novels['Publisher']=Publisher\n",
    "novels['Genre']=Genre\n",
    "novels"
   ]
  },
  {
   "cell_type": "code",
   "execution_count": 6,
   "id": "eb48de05",
   "metadata": {},
   "outputs": [
    {
     "ename": "NameError",
     "evalue": "name 'driver' is not defined",
     "output_type": "error",
     "traceback": [
      "\u001b[1;31m---------------------------------------------------------------------------\u001b[0m",
      "\u001b[1;31mNameError\u001b[0m                                 Traceback (most recent call last)",
      "Input \u001b[1;32mIn [6]\u001b[0m, in \u001b[0;36m<cell line: 2>\u001b[1;34m()\u001b[0m\n\u001b[0;32m      1\u001b[0m \u001b[38;5;66;03m#Closing the driver\u001b[39;00m\n\u001b[1;32m----> 2\u001b[0m \u001b[43mdriver\u001b[49m\u001b[38;5;241m.\u001b[39mclose()\n",
      "\u001b[1;31mNameError\u001b[0m: name 'driver' is not defined"
     ]
    }
   ],
   "source": [
    "#Closing the driver\n",
    "driver.close()"
   ]
  },
  {
   "cell_type": "markdown",
   "id": "64380623",
   "metadata": {},
   "source": [
    "# Q7"
   ]
  },
  {
   "cell_type": "code",
   "execution_count": null,
   "id": "74f2c7ca",
   "metadata": {},
   "outputs": [],
   "source": [
    "#Connect to web driver\n",
    "driver=webdriver.Chrome(r\"D://chromedriver.exe\")  #r converts string to raw string\n",
    "#If not r, we can use executable_path = \"C:/path name\""
   ]
  },
  {
   "cell_type": "code",
   "execution_count": null,
   "id": "05a0025c",
   "metadata": {},
   "outputs": [],
   "source": [
    "#Getting the website to driver\n",
    "driver.get('https://www.imdb.com/list/ls095964455/')\n",
    "\n",
    "#When we run this line, automatically the webpage will be opened"
   ]
  },
  {
   "cell_type": "code",
   "execution_count": null,
   "id": "e6830fb4",
   "metadata": {},
   "outputs": [],
   "source": [
    "#Creating empty lists for storing the scrapped data\n",
    "Name=[]\n",
    "Year=[]\n",
    "Genre=[]\n",
    "Runtime=[]\n",
    "Rating=[]\n",
    "Vote=[]\n",
    "\n",
    "#Scrapping the data having the series name\n",
    "name=driver.find_elements_by_xpath(\"//h3[@class='lister-item-header']/a\")\n",
    "for i in name:\n",
    "    Name.append(i.text)\n",
    "    \n",
    "#Scrapping the data having the year span details\n",
    "year=driver.find_elements_by_xpath(\"//span[@class='lister-item-year text-muted unbold']\")\n",
    "for i in year:\n",
    "    Year.append(i.text)\n",
    "    \n",
    "#Scrapping the data having the genre details\n",
    "genre=driver.find_elements_by_xpath(\"//span[@class='genre']\")\n",
    "for i in genre:\n",
    "    Genre.append(i.text)\n",
    "    \n",
    "#Scrapping the data having the runtime details\n",
    "runtime=driver.find_elements_by_xpath(\"//span[@class='runtime']\")\n",
    "for i in runtime:\n",
    "    Runtime.append(i.text)\n",
    "    \n",
    "#Scrapping the data having rating details\n",
    "rating=driver.find_elements_by_xpath(\"//div[@class='ipl-rating-star small']\")\n",
    "for i in rating:\n",
    "    Rating.append(i.text)\n",
    "    \n",
    "#Scrapping the data having the votes details\n",
    "votes=driver.find_elements_by_xpath(\"//span[@name='nv']\")\n",
    "for i in votes:\n",
    "    Vote.append(i.text)    #Scrapping the data having the votes details\n",
    "votes=driver.find_elements_by_xpath(\"//span[@name='nv']\")\n",
    "for i in votes:\n",
    "    Vote.append(i.text)"
   ]
  },
  {
   "cell_type": "code",
   "execution_count": 7,
   "id": "aff536b3",
   "metadata": {},
   "outputs": [
    {
     "ename": "NameError",
     "evalue": "name 'pd' is not defined",
     "output_type": "error",
     "traceback": [
      "\u001b[1;31m---------------------------------------------------------------------------\u001b[0m",
      "\u001b[1;31mNameError\u001b[0m                                 Traceback (most recent call last)",
      "Input \u001b[1;32mIn [7]\u001b[0m, in \u001b[0;36m<cell line: 2>\u001b[1;34m()\u001b[0m\n\u001b[0;32m      1\u001b[0m \u001b[38;5;66;03m#Creating a dataframe for the scrapped data\u001b[39;00m\n\u001b[1;32m----> 2\u001b[0m IMDB\u001b[38;5;241m=\u001b[39m\u001b[43mpd\u001b[49m\u001b[38;5;241m.\u001b[39mDataFrame({\u001b[38;5;124m'\u001b[39m\u001b[38;5;124mName\u001b[39m\u001b[38;5;124m'\u001b[39m:Name,\u001b[38;5;124m'\u001b[39m\u001b[38;5;124mYear span\u001b[39m\u001b[38;5;124m'\u001b[39m:Year,\u001b[38;5;124m'\u001b[39m\u001b[38;5;124mGenre\u001b[39m\u001b[38;5;124m'\u001b[39m:Genre,\u001b[38;5;124m'\u001b[39m\u001b[38;5;124mRuntime\u001b[39m\u001b[38;5;124m'\u001b[39m:Runtime,\u001b[38;5;124m'\u001b[39m\u001b[38;5;124mRating\u001b[39m\u001b[38;5;124m'\u001b[39m:Rating,\u001b[38;5;124m'\u001b[39m\u001b[38;5;124mVotes\u001b[39m\u001b[38;5;124m'\u001b[39m:Vote})\n\u001b[0;32m      3\u001b[0m IMDB\n",
      "\u001b[1;31mNameError\u001b[0m: name 'pd' is not defined"
     ]
    }
   ],
   "source": [
    "#Creating a dataframe for the scrapped data\n",
    "IMDB=pd.DataFrame({'Name':Name,'Year span':Year,'Genre':Genre,'Runtime':Runtime,'Rating':Rating,'Votes':Vote})\n",
    "IMDB\n"
   ]
  },
  {
   "cell_type": "code",
   "execution_count": 8,
   "id": "0f148390",
   "metadata": {},
   "outputs": [
    {
     "ename": "NameError",
     "evalue": "name 'driver' is not defined",
     "output_type": "error",
     "traceback": [
      "\u001b[1;31m---------------------------------------------------------------------------\u001b[0m",
      "\u001b[1;31mNameError\u001b[0m                                 Traceback (most recent call last)",
      "Input \u001b[1;32mIn [8]\u001b[0m, in \u001b[0;36m<cell line: 2>\u001b[1;34m()\u001b[0m\n\u001b[0;32m      1\u001b[0m \u001b[38;5;66;03m#Closing the driver\u001b[39;00m\n\u001b[1;32m----> 2\u001b[0m \u001b[43mdriver\u001b[49m\u001b[38;5;241m.\u001b[39mclose()\n",
      "\u001b[1;31mNameError\u001b[0m: name 'driver' is not defined"
     ]
    }
   ],
   "source": [
    "#Closing the driver\n",
    "driver.close()"
   ]
  },
  {
   "cell_type": "markdown",
   "id": "92abc4ae",
   "metadata": {},
   "source": [
    "# Q8"
   ]
  },
  {
   "cell_type": "code",
   "execution_count": null,
   "id": "a0c29d84",
   "metadata": {},
   "outputs": [],
   "source": [
    "#Connect to web driver\n",
    "driver=webdriver.Chrome(r\"D://chromedriver.exe\")  #r converts string to raw string\n",
    "#If not r, we can use executable_path = \"C:/path name\""
   ]
  },
  {
   "cell_type": "code",
   "execution_count": null,
   "id": "f02f29eb",
   "metadata": {},
   "outputs": [],
   "source": [
    "#Getting the website to driver\n",
    "driver.get('https://archive.ics.uci.edu/')\n",
    "#When we run this line, automatically the webpage will be opened"
   ]
  },
  {
   "cell_type": "code",
   "execution_count": null,
   "id": "b9334dd5",
   "metadata": {},
   "outputs": [],
   "source": [
    "#Clicking on view all datasets link\n",
    "datasets=driver.find_element_by_xpath(\"/html/body/table[1]/tbody/tr/td[2]/span[2]/a/font/b\")\n",
    "try:\n",
    "    datasets.click()\n",
    "except ElementNotInteractableException:\n",
    "    driver.get(datasets.get_attribute('href'))"
   ]
  },
  {
   "cell_type": "code",
   "execution_count": null,
   "id": "cc0ca227",
   "metadata": {},
   "outputs": [],
   "source": [
    "#Creating empty lists for storing the scrapped data\n",
    "Name=[]\n",
    "Type=[]\n",
    "Task=[]\n",
    "Attribute=[]\n",
    "No_of_Instance=[]\n",
    "No_of_Attribute=[]\n",
    "Year=[]\n",
    "\n",
    "#Scrapping the data having dataset name\n",
    "try:\n",
    "    names=driver.find_elements_by_xpath(\"/html/body/table[2]/tbody/tr/td[2]/table[2]/tbody/tr/td[1]/table/tbody/tr/td[2]/p/b/a\")\n",
    "    for i in names:\n",
    "        Name.append(i.text)\n",
    "except NoSuchElementException:\n",
    "    Name.append('-')\n",
    "    \n",
    "#Scrapping the data having data type\n",
    "try:\n",
    "    types=driver.find_elements_by_xpath(\"/html/body/table[2]/tbody/tr/td[2]/table[2]/tbody/tr/td[2]\")\n",
    "    for i in types[1:]:\n",
    "        Type.append(i.text)\n",
    "except NoSuchElementException:\n",
    "    Type.append('-')\n",
    "    \n",
    "#Scrapping the data having default task\n",
    "try:\n",
    "    task=driver.find_elements_by_xpath(\"/html/body/table[2]/tbody/tr/td[2]/table[2]/tbody/tr/td[3]\")\n",
    "    for i in task[1:]:\n",
    "        Task.append(i.text)\n",
    "except NoSuchElementException:\n",
    "    Task.append('-')\n",
    "    \n",
    "  #Scrapping the data having attribute types\n",
    "try:\n",
    "    attribute=driver.find_elements_by_xpath(\"/html/body/table[2]/tbody/tr/td[2]/table[2]/tbody/tr/td[4]\")\n",
    "    for i in attribute[1:]:\n",
    "        Attribute.append(i.text)\n",
    "except NoSuchElementException:\n",
    "    Attribute.append('-')\n",
    "        \n",
    "#Scrapping the data having no of instances\n",
    "try:\n",
    "    instance=driver.find_elements_by_xpath(\"/html/body/table[2]/tbody/tr/td[2]/table[2]/tbody/tr/td[5]\")\n",
    "    for i in instance[1:]:\n",
    "        No_of_Instance.append(i.text)\n",
    "except NoSuchElementException:\n",
    "    No_of_Instance.append('-')\n",
    "        \n",
    "#Scrapping the data having no of attributes\n",
    "try:\n",
    "    attribute_no=driver.find_elements_by_xpath(\"/html/body/table[2]/tbody/tr/td[2]/table[2]/tbody/tr/td[6]\")\n",
    "    for i in attribute_no[1:]:\n",
    "        No_of_Attribute.append(i.text)\n",
    "except NoSuchElementException:\n",
    "    No_of_Attribute.append('-')\n",
    "        \n",
    "#Scrapping the data having the year details\n",
    "try:\n",
    "    year=driver.find_elements_by_xpath(\"/html/body/table[2]/tbody/tr/td[2]/table[2]/tbody/tr/td[7]\")\n",
    "    for i in year[1:]:\n",
    "        Year.append(i.text)\n",
    "except NoSuchElementException:\n",
    "    Year.append('-')\n",
    "    "
   ]
  },
  {
   "cell_type": "code",
   "execution_count": 9,
   "id": "4f91b71f",
   "metadata": {},
   "outputs": [
    {
     "ename": "NameError",
     "evalue": "name 'pd' is not defined",
     "output_type": "error",
     "traceback": [
      "\u001b[1;31m---------------------------------------------------------------------------\u001b[0m",
      "\u001b[1;31mNameError\u001b[0m                                 Traceback (most recent call last)",
      "Input \u001b[1;32mIn [9]\u001b[0m, in \u001b[0;36m<cell line: 2>\u001b[1;34m()\u001b[0m\n\u001b[0;32m      1\u001b[0m \u001b[38;5;66;03m#Creating the dataframe\u001b[39;00m\n\u001b[1;32m----> 2\u001b[0m df\u001b[38;5;241m=\u001b[39m\u001b[43mpd\u001b[49m\u001b[38;5;241m.\u001b[39mDataFrame({\u001b[38;5;124m\"\u001b[39m\u001b[38;5;124mName\u001b[39m\u001b[38;5;124m\"\u001b[39m:Name,\u001b[38;5;124m\"\u001b[39m\u001b[38;5;124mData types\u001b[39m\u001b[38;5;124m\"\u001b[39m:Type,\u001b[38;5;124m\"\u001b[39m\u001b[38;5;124mDefault Task\u001b[39m\u001b[38;5;124m\"\u001b[39m:Task,\u001b[38;5;124m\"\u001b[39m\u001b[38;5;124mAttribute types\u001b[39m\u001b[38;5;124m\"\u001b[39m:Attribute, \n\u001b[0;32m      3\u001b[0m                  \u001b[38;5;124m\"\u001b[39m\u001b[38;5;124mNo of instances\u001b[39m\u001b[38;5;124m\"\u001b[39m:No_of_Instance,\u001b[38;5;124m\"\u001b[39m\u001b[38;5;124mNo of atrributes\u001b[39m\u001b[38;5;124m\"\u001b[39m:No_of_Attribute,\u001b[38;5;124m\"\u001b[39m\u001b[38;5;124mYear\u001b[39m\u001b[38;5;124m\"\u001b[39m:Year})\n\u001b[0;32m      4\u001b[0m df\n",
      "\u001b[1;31mNameError\u001b[0m: name 'pd' is not defined"
     ]
    }
   ],
   "source": [
    "#Creating the dataframe\n",
    "df=pd.DataFrame({\"Name\":Name,\"Data types\":Type,\"Default Task\":Task,\"Attribute types\":Attribute, \n",
    "                 \"No of instances\":No_of_Instance,\"No of atrributes\":No_of_Attribute,\"Year\":Year})\n",
    "df"
   ]
  },
  {
   "cell_type": "code",
   "execution_count": 10,
   "id": "fdf825e0",
   "metadata": {},
   "outputs": [
    {
     "ename": "NameError",
     "evalue": "name 'driver' is not defined",
     "output_type": "error",
     "traceback": [
      "\u001b[1;31m---------------------------------------------------------------------------\u001b[0m",
      "\u001b[1;31mNameError\u001b[0m                                 Traceback (most recent call last)",
      "Input \u001b[1;32mIn [10]\u001b[0m, in \u001b[0;36m<cell line: 2>\u001b[1;34m()\u001b[0m\n\u001b[0;32m      1\u001b[0m \u001b[38;5;66;03m#Closing the driver\u001b[39;00m\n\u001b[1;32m----> 2\u001b[0m \u001b[43mdriver\u001b[49m\u001b[38;5;241m.\u001b[39mclose()\n",
      "\u001b[1;31mNameError\u001b[0m: name 'driver' is not defined"
     ]
    }
   ],
   "source": [
    "#Closing the driver\n",
    "driver.close()"
   ]
  },
  {
   "cell_type": "code",
   "execution_count": null,
   "id": "740837b2",
   "metadata": {},
   "outputs": [],
   "source": []
  }
 ],
 "metadata": {
  "kernelspec": {
   "display_name": "Python 3 (ipykernel)",
   "language": "python",
   "name": "python3"
  },
  "language_info": {
   "codemirror_mode": {
    "name": "ipython",
    "version": 3
   },
   "file_extension": ".py",
   "mimetype": "text/x-python",
   "name": "python",
   "nbconvert_exporter": "python",
   "pygments_lexer": "ipython3",
   "version": "3.9.12"
  }
 },
 "nbformat": 4,
 "nbformat_minor": 5
}
